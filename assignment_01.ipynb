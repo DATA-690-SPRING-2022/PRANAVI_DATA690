{
  "nbformat": 4,
  "nbformat_minor": 0,
  "metadata": {
    "colab": {
      "name": "assignment_01.ipynb",
      "provenance": [],
      "authorship_tag": "ABX9TyPPAWK3ZFGl2VpsPEuiBI1+",
      "include_colab_link": true
    },
    "kernelspec": {
      "name": "python3",
      "display_name": "Python 3"
    },
    "language_info": {
      "name": "python"
    }
  },
  "cells": [
    {
      "cell_type": "markdown",
      "metadata": {
        "id": "view-in-github",
        "colab_type": "text"
      },
      "source": [
        "<a href=\"https://colab.research.google.com/github/Pranavigadikoppula/PRANAVI_DATA690/blob/main/assignment_01.ipynb\" target=\"_parent\"><img src=\"https://colab.research.google.com/assets/colab-badge.svg\" alt=\"Open In Colab\"/></a>"
      ]
    },
    {
      "cell_type": "code",
      "execution_count": null,
      "metadata": {
        "id": "DV0Axqzsk8zd"
      },
      "outputs": [],
      "source": [
        ""
      ]
    },
    {
      "cell_type": "markdown",
      "source": [
        "#data 690\n",
        "- Name: Pranavi Gadikoppula\n",
        "\n",
        "- Date:01/31/2022\n",
        "\n",
        "- Session:01"
      ],
      "metadata": {
        "id": "WjHz_9Bdl7sR"
      }
    },
    {
      "cell_type": "code",
      "source": [
        "print(\"Helloworld\")\n"
      ],
      "metadata": {
        "colab": {
          "base_uri": "https://localhost:8080/"
        },
        "id": "TH41dPapmqTN",
        "outputId": "180f57f1-4cb6-4b41-ffbb-a5195f9726e8"
      },
      "execution_count": 1,
      "outputs": [
        {
          "output_type": "stream",
          "name": "stdout",
          "text": [
            "Helloworld\n"
          ]
        }
      ]
    },
    {
      "cell_type": "code",
      "source": [
        "a = 10\n",
        "b = 20\n",
        "z = a + b\n",
        "print(\"z =\", z)"
      ],
      "metadata": {
        "colab": {
          "base_uri": "https://localhost:8080/"
        },
        "id": "cJk_fwDQm8wC",
        "outputId": "d186e879-e9c7-4cbd-aaac-5b4afba3e301"
      },
      "execution_count": 4,
      "outputs": [
        {
          "output_type": "stream",
          "name": "stdout",
          "text": [
            "z = 30\n"
          ]
        }
      ]
    }
  ]
}