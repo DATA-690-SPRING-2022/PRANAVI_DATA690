{
  "nbformat": 4,
  "nbformat_minor": 0,
  "metadata": {
    "colab": {
      "name": "Assignment_03.ipynb",
      "provenance": [],
      "collapsed_sections": [],
      "authorship_tag": "ABX9TyP4cmVUbs/NB/zHFjbcBU5u",
      "include_colab_link": true
    },
    "kernelspec": {
      "name": "python3",
      "display_name": "Python 3"
    },
    "language_info": {
      "name": "python"
    }
  },
  "cells": [
    {
      "cell_type": "markdown",
      "metadata": {
        "id": "view-in-github",
        "colab_type": "text"
      },
      "source": [
        "<a href=\"https://colab.research.google.com/github/Pranavigadikoppula/PRANAVI_DATA690/blob/main/ASSIGNMENT_03/Assignment_03.ipynb\" target=\"_parent\"><img src=\"https://colab.research.google.com/assets/colab-badge.svg\" alt=\"Open In Colab\"/></a>"
      ]
    },
    {
      "cell_type": "markdown",
      "source": [
        "generating 10*10 matrix using random"
      ],
      "metadata": {
        "id": "037EuciDugA1"
      }
    },
    {
      "cell_type": "code",
      "execution_count": null,
      "metadata": {
        "colab": {
          "base_uri": "https://localhost:8080/"
        },
        "id": "xT3G9N0-qU9E",
        "outputId": "e16b269e-1551-4357-d327-b2eb5ae83578"
      },
      "outputs": [
        {
          "output_type": "stream",
          "name": "stdout",
          "text": [
            "4 4 6 7 7 0 3 3 7 9 \n",
            "\n",
            "9 4 4 1 4 8 7 7 2 3 \n",
            "\n",
            "8 7 5 6 7 8 0 7 4 5 \n",
            "\n",
            "9 6 2 7 1 2 1 7 9 7 \n",
            "\n",
            "5 6 3 9 5 0 5 1 8 1 \n",
            "\n",
            "4 5 2 1 4 6 6 8 5 0 \n",
            "\n",
            "0 1 9 8 2 1 2 0 7 7 \n",
            "\n",
            "5 6 6 5 4 8 8 9 1 8 \n",
            "\n",
            "5 9 5 7 5 9 6 1 5 5 \n",
            "\n",
            "7 0 5 6 2 5 0 2 1 7 \n",
            "\n"
          ]
        }
      ],
      "source": [
        "import random \n",
        "for x in range(10):\n",
        "     for y in range(10):\n",
        "         matrix = random.randint(0,9)\n",
        "         print(matrix,end=\" \")\n",
        "     print(\"\\n\")"
      ]
    },
    {
      "cell_type": "markdown",
      "source": [
        "replacing odd numbers with @"
      ],
      "metadata": {
        "id": "BGrUpEK-59LK"
      }
    },
    {
      "cell_type": "code",
      "source": [
        "import random \n",
        "for x in range(10):\n",
        "     for y in range(10):\n",
        "         matrix = random.randint(0,9)\n",
        "         if  matrix%2!=0 :                # condition to check whether the number is odd or not.\n",
        "             print(\"@\",end=\" \")\n",
        "         else:\n",
        "           print(matrix,end=\" \")\n",
        "     print(\"\")"
      ],
      "metadata": {
        "colab": {
          "base_uri": "https://localhost:8080/"
        },
        "id": "HNwajinrUtFk",
        "outputId": "b5ff6597-2de6-4229-bd02-7a1a6c8d73f9"
      },
      "execution_count": null,
      "outputs": [
        {
          "output_type": "stream",
          "name": "stdout",
          "text": [
            "@ @ @ 8 @ 0 2 @ 0 @ \n",
            "@ 8 @ 6 @ @ @ @ @ @ \n",
            "@ @ 0 @ 4 @ @ @ @ 0 \n",
            "@ @ @ @ @ 0 @ @ 0 @ \n",
            "@ @ @ @ @ @ 8 @ @ 6 \n",
            "4 0 2 8 @ @ 2 @ 0 @ \n",
            "@ 2 @ @ @ 0 6 @ 0 @ \n",
            "@ 0 @ 6 8 2 2 @ 6 6 \n",
            "@ 8 @ @ @ 2 8 6 @ 8 \n",
            "@ 4 0 @ @ 6 2 4 6 0 \n"
          ]
        }
      ]
    },
    {
      "cell_type": "markdown",
      "source": [
        "addition of all numbers in a row"
      ],
      "metadata": {
        "id": "5plVNQef6Sa5"
      }
    },
    {
      "cell_type": "code",
      "source": [
        "import random \n",
        "for x in range(10):\n",
        "    v=0\n",
        "    for y in range(10):\n",
        "        v=v+matrix\n",
        "        matrix = random.randint(0,9)\n",
        "        \n",
        "        print(matrix,end=\" \")\n",
        "    \n",
        "    print(\"*\",end=\" \")\n",
        "    print(v)\n",
        "  \n",
        "   "
      ],
      "metadata": {
        "colab": {
          "base_uri": "https://localhost:8080/"
        },
        "id": "X6Hkax3RbLf_",
        "outputId": "1998404d-234a-41b2-94a2-32e77828ec35"
      },
      "execution_count": null,
      "outputs": [
        {
          "output_type": "stream",
          "name": "stdout",
          "text": [
            "2 6 7 1 6 8 5 6 6 4 * 52\n",
            "8 3 9 3 9 6 7 4 4 0 * 57\n",
            "8 0 3 4 3 7 5 8 7 0 * 45\n",
            "8 5 7 9 7 9 7 7 6 7 * 65\n",
            "9 1 3 0 8 0 0 9 0 1 * 37\n",
            "7 4 5 5 9 7 2 0 7 9 * 47\n",
            "6 4 4 9 8 9 9 0 5 3 * 63\n",
            "7 1 0 2 6 4 9 3 2 8 * 37\n",
            "4 1 3 5 0 1 8 4 7 2 * 41\n",
            "2 2 1 6 4 9 0 9 8 0 * 43\n"
          ]
        }
      ]
    },
    {
      "cell_type": "markdown",
      "source": [
        "covering the matrix with *"
      ],
      "metadata": {
        "id": "YpInurc06Xin"
      }
    },
    {
      "cell_type": "code",
      "source": [
        "import random \n",
        "print(\"***********************\")\n",
        "for x in range(10):\n",
        "     print(\"*\",end=\" \")\n",
        "     for y in range(10):\n",
        "       \n",
        "        matrix = random.randint(0,9)\n",
        "        print(matrix,end=\" \")\n",
        "    \n",
        "     print(\"*\")\n",
        "print(\"***********************\")   \n",
        "    \n",
        "     \n",
        "    \n",
        "    "
      ],
      "metadata": {
        "id": "O2HHVeCyVE4R",
        "colab": {
          "base_uri": "https://localhost:8080/"
        },
        "outputId": "3869e507-75a7-40fb-8850-eabd216e88e9"
      },
      "execution_count": null,
      "outputs": [
        {
          "output_type": "stream",
          "name": "stdout",
          "text": [
            "***********************\n",
            "* 3 6 3 9 9 2 7 7 3 5 *\n",
            "* 1 0 0 6 2 7 0 3 7 9 *\n",
            "* 0 8 9 6 4 9 2 6 2 7 *\n",
            "* 3 4 2 7 9 0 6 8 6 2 *\n",
            "* 5 9 5 0 5 1 9 5 1 8 *\n",
            "* 8 0 7 8 5 7 8 8 3 9 *\n",
            "* 8 9 2 7 5 8 0 5 3 9 *\n",
            "* 0 8 2 9 6 9 5 8 8 0 *\n",
            "* 3 0 4 6 1 4 8 4 8 0 *\n",
            "* 3 0 0 8 5 9 3 4 1 7 *\n",
            "***********************\n"
          ]
        }
      ]
    },
    {
      "cell_type": "markdown",
      "source": [
        "addition of all numbers in row and addition all numbers in col"
      ],
      "metadata": {
        "id": "LRD08TTp6b3Z"
      }
    },
    {
      "cell_type": "code",
      "source": [
        "import random\n",
        "t = [0]*10                          \n",
        "\n",
        "for x in range(10): \n",
        "    v=0                       \n",
        "    for y in range(10):                   \n",
        "        matrix = random.randint(0, 9)           \n",
        "        v=v+matrix                     \n",
        "        t[y] = t[y] + matrix\n",
        "        print(matrix, end= '  ')\n",
        "    print(\"*\", v, end=' ')\n",
        "    v = 0\n",
        "    print(\"\")\n",
        "\n",
        "for m in range(10):                         \n",
        "    print(\"*\", end='  ')\n",
        "print(\"\")\n",
        "\n",
        "for n in range(len(t)):               \n",
        "    print(t[n], end= ' ')"
      ],
      "metadata": {
        "id": "5tB_3xfAe_Mw",
        "colab": {
          "base_uri": "https://localhost:8080/"
        },
        "outputId": "74240426-2a9b-4f8e-f4aa-f95f217fc6bf"
      },
      "execution_count": 14,
      "outputs": [
        {
          "output_type": "stream",
          "name": "stdout",
          "text": [
            "6  2  2  3  7  2  3  9  8  6  * 48 \n",
            "8  1  9  2  1  2  8  0  1  7  * 39 \n",
            "9  1  9  5  3  5  4  8  7  1  * 52 \n",
            "0  1  7  2  0  2  2  0  1  2  * 17 \n",
            "1  3  0  6  2  2  8  2  6  1  * 31 \n",
            "8  0  2  4  1  7  0  3  7  8  * 40 \n",
            "6  4  0  5  1  8  9  2  3  8  * 46 \n",
            "4  7  5  8  1  8  4  0  3  6  * 46 \n",
            "7  4  8  5  9  7  9  0  5  8  * 62 \n",
            "6  8  8  1  3  8  9  4  2  5  * 54 \n",
            "*  *  *  *  *  *  *  *  *  *  \n",
            "55 31 50 41 28 51 56 28 43 52 "
          ]
        }
      ]
    }
  ]
}