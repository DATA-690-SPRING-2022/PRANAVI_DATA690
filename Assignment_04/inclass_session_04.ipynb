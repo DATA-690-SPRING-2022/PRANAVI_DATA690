{
  "nbformat": 4,
  "nbformat_minor": 0,
  "metadata": {
    "colab": {
      "name": "inclass_session_04.ipynb",
      "provenance": [],
      "authorship_tag": "ABX9TyNRFQG+jxZoUy1aZlBgbxBN",
      "include_colab_link": true
    },
    "kernelspec": {
      "name": "python3",
      "display_name": "Python 3"
    },
    "language_info": {
      "name": "python"
    }
  },
  "cells": [
    {
      "cell_type": "markdown",
      "metadata": {
        "id": "view-in-github",
        "colab_type": "text"
      },
      "source": [
        "<a href=\"https://colab.research.google.com/github/Pranavigadikoppula/PRANAVI_DATA690/blob/main/Assignment_04/inclass_session_04.ipynb\" target=\"_parent\"><img src=\"https://colab.research.google.com/assets/colab-badge.svg\" alt=\"Open In Colab\"/></a>"
      ]
    },
    {
      "cell_type": "code",
      "execution_count": null,
      "metadata": {
        "colab": {
          "base_uri": "https://localhost:8080/"
        },
        "id": "SOav30Nl7hPH",
        "outputId": "67f3250f-86d2-4b68-b9c8-96e521f94177"
      },
      "outputs": [
        {
          "output_type": "stream",
          "name": "stdout",
          "text": [
            "\n",
            " @ @ 0 4 2 @ 6 6 6 @ \n",
            " @ 8 0 @ @ 2 6 @ @ @ \n",
            " 0 @ 6 8 @ @ 6 @ @ 6 \n",
            " @ @ @ 2 @ @ @ 0 6 @ \n",
            " 4 8 4 @ @ 0 6 0 0 8 \n",
            " 6 @ @ 2 8 @ @ 8 @ 6 \n",
            " 8 4 0 @ @ 4 @ @ @ @ \n",
            " @ 2 @ @ @ @ @ @ 0 @ \n",
            " 4 @ @ 0 @ @ @ @ @ 0 \n",
            " @ 2 0 @ 2 0 @ 4 @ @ "
          ]
        }
      ],
      "source": [
        "import random\n",
        "import re\n",
        "for i in range(0,10):\n",
        "    print(end=\"\\n \")\n",
        "    for j in range(0,10):\n",
        "        num=random.randint(0,9)\n",
        "        if (num % 2) == 0:\n",
        "            print(num, end=\" \")\n",
        "        else:\n",
        "            strnum = str(num)\n",
        "            strnum=strnum.replace(strnum,\"@\")\n",
        "            print(strnum, end=\" \")"
      ]
    },
    {
      "cell_type": "code",
      "source": [
        ""
      ],
      "metadata": {
        "id": "P_4vtZQS81U1"
      },
      "execution_count": null,
      "outputs": []
    },
    {
      "cell_type": "code",
      "source": [
        "numbers=[]     # This list is to hold 100 random numbers\n",
        "for i in range(100):\n",
        "    numbers.append(random.randint(0, 9))\n",
        "print(numbers)\n",
        "print(len(numbers))"
      ],
      "metadata": {
        "colab": {
          "base_uri": "https://localhost:8080/"
        },
        "id": "G9les1C59BcK",
        "outputId": "49120136-7765-4b88-fc9e-b5ee57d7dc02"
      },
      "execution_count": 6,
      "outputs": [
        {
          "output_type": "stream",
          "name": "stdout",
          "text": [
            "[9, 5, 9, 4, 9, 1, 1, 1, 1, 8, 8, 1, 5, 9, 6, 3, 6, 8, 8, 7, 7, 9, 9, 6, 4, 7, 9, 6, 1, 7, 6, 4, 2, 0, 4, 2, 1, 5, 5, 6, 3, 9, 1, 4, 9, 9, 3, 7, 3, 9, 9, 3, 0, 3, 6, 8, 0, 8, 1, 6, 9, 1, 5, 4, 5, 4, 2, 5, 0, 3, 3, 5, 1, 7, 1, 4, 3, 9, 1, 0, 3, 8, 8, 2, 0, 4, 0, 4, 6, 3, 8, 2, 5, 9, 7, 2, 6, 4, 0, 2]\n",
            "100\n"
          ]
        }
      ]
    },
    {
      "cell_type": "code",
      "source": [
        "for i in range(0,100,1):\n",
        "    print(\"index = \", i, \"number= \", numbers[i])"
      ],
      "metadata": {
        "colab": {
          "base_uri": "https://localhost:8080/"
        },
        "id": "g8yhidNZ9tYm",
        "outputId": "c5f21322-1ab3-4f18-c504-31fd628be802"
      },
      "execution_count": 7,
      "outputs": [
        {
          "output_type": "stream",
          "name": "stdout",
          "text": [
            "index =  0 number=  9\n",
            "index =  1 number=  5\n",
            "index =  2 number=  9\n",
            "index =  3 number=  4\n",
            "index =  4 number=  9\n",
            "index =  5 number=  1\n",
            "index =  6 number=  1\n",
            "index =  7 number=  1\n",
            "index =  8 number=  1\n",
            "index =  9 number=  8\n",
            "index =  10 number=  8\n",
            "index =  11 number=  1\n",
            "index =  12 number=  5\n",
            "index =  13 number=  9\n",
            "index =  14 number=  6\n",
            "index =  15 number=  3\n",
            "index =  16 number=  6\n",
            "index =  17 number=  8\n",
            "index =  18 number=  8\n",
            "index =  19 number=  7\n",
            "index =  20 number=  7\n",
            "index =  21 number=  9\n",
            "index =  22 number=  9\n",
            "index =  23 number=  6\n",
            "index =  24 number=  4\n",
            "index =  25 number=  7\n",
            "index =  26 number=  9\n",
            "index =  27 number=  6\n",
            "index =  28 number=  1\n",
            "index =  29 number=  7\n",
            "index =  30 number=  6\n",
            "index =  31 number=  4\n",
            "index =  32 number=  2\n",
            "index =  33 number=  0\n",
            "index =  34 number=  4\n",
            "index =  35 number=  2\n",
            "index =  36 number=  1\n",
            "index =  37 number=  5\n",
            "index =  38 number=  5\n",
            "index =  39 number=  6\n",
            "index =  40 number=  3\n",
            "index =  41 number=  9\n",
            "index =  42 number=  1\n",
            "index =  43 number=  4\n",
            "index =  44 number=  9\n",
            "index =  45 number=  9\n",
            "index =  46 number=  3\n",
            "index =  47 number=  7\n",
            "index =  48 number=  3\n",
            "index =  49 number=  9\n",
            "index =  50 number=  9\n",
            "index =  51 number=  3\n",
            "index =  52 number=  0\n",
            "index =  53 number=  3\n",
            "index =  54 number=  6\n",
            "index =  55 number=  8\n",
            "index =  56 number=  0\n",
            "index =  57 number=  8\n",
            "index =  58 number=  1\n",
            "index =  59 number=  6\n",
            "index =  60 number=  9\n",
            "index =  61 number=  1\n",
            "index =  62 number=  5\n",
            "index =  63 number=  4\n",
            "index =  64 number=  5\n",
            "index =  65 number=  4\n",
            "index =  66 number=  2\n",
            "index =  67 number=  5\n",
            "index =  68 number=  0\n",
            "index =  69 number=  3\n",
            "index =  70 number=  3\n",
            "index =  71 number=  5\n",
            "index =  72 number=  1\n",
            "index =  73 number=  7\n",
            "index =  74 number=  1\n",
            "index =  75 number=  4\n",
            "index =  76 number=  3\n",
            "index =  77 number=  9\n",
            "index =  78 number=  1\n",
            "index =  79 number=  0\n",
            "index =  80 number=  3\n",
            "index =  81 number=  8\n",
            "index =  82 number=  8\n",
            "index =  83 number=  2\n",
            "index =  84 number=  0\n",
            "index =  85 number=  4\n",
            "index =  86 number=  0\n",
            "index =  87 number=  4\n",
            "index =  88 number=  6\n",
            "index =  89 number=  3\n",
            "index =  90 number=  8\n",
            "index =  91 number=  2\n",
            "index =  92 number=  5\n",
            "index =  93 number=  9\n",
            "index =  94 number=  7\n",
            "index =  95 number=  2\n",
            "index =  96 number=  6\n",
            "index =  97 number=  4\n",
            "index =  98 number=  0\n",
            "index =  99 number=  2\n"
          ]
        }
      ]
    },
    {
      "cell_type": "code",
      "source": [
        "count = 0\n",
        "for i in range(10):\n",
        "    for j in range(10):\n",
        "        print(numbers[count], \" \", end = \" \")\n",
        "        count+=1\n",
        "    print(\"\\n\")"
      ],
      "metadata": {
        "colab": {
          "base_uri": "https://localhost:8080/"
        },
        "id": "eckUE1Ai9vAl",
        "outputId": "3cd97173-9570-4e79-e93a-75802cbdf2f4"
      },
      "execution_count": 8,
      "outputs": [
        {
          "output_type": "stream",
          "name": "stdout",
          "text": [
            "9   5   9   4   9   1   1   1   1   8   \n",
            "\n",
            "8   1   5   9   6   3   6   8   8   7   \n",
            "\n",
            "7   9   9   6   4   7   9   6   1   7   \n",
            "\n",
            "6   4   2   0   4   2   1   5   5   6   \n",
            "\n",
            "3   9   1   4   9   9   3   7   3   9   \n",
            "\n",
            "9   3   0   3   6   8   0   8   1   6   \n",
            "\n",
            "9   1   5   4   5   4   2   5   0   3   \n",
            "\n",
            "3   5   1   7   1   4   3   9   1   0   \n",
            "\n",
            "3   8   8   2   0   4   0   4   6   3   \n",
            "\n",
            "8   2   5   9   7   2   6   4   0   2   \n",
            "\n"
          ]
        }
      ]
    },
    {
      "cell_type": "code",
      "source": [
        "sum=0\n",
        "for n in range (10): #repeats each row 10 times\n",
        "    for i in range(10): #repeats each integer 10 times\n",
        "       y=random.randint(0,9)\n",
        "       sum=sum+ y\n",
        "       print(y,end=\" \") #prints one integer with space at the end\n",
        "    print( \"*\",sum,end=\" \\n\")  #starts a new row after each 10 char\n",
        "    sum=0                     #resets sum to 0 before the next loop"
      ],
      "metadata": {
        "colab": {
          "base_uri": "https://localhost:8080/"
        },
        "id": "UpzMw1Iz930h",
        "outputId": "4513ae96-c163-4f7c-bd4e-09977a2b831e"
      },
      "execution_count": 9,
      "outputs": [
        {
          "output_type": "stream",
          "name": "stdout",
          "text": [
            "6 8 1 1 3 4 5 1 4 8 * 41 \n",
            "2 3 8 0 1 4 2 7 9 9 * 45 \n",
            "6 4 5 0 9 9 4 6 9 8 * 60 \n",
            "7 1 5 0 5 5 8 8 7 1 * 47 \n",
            "5 2 9 5 8 8 8 0 2 1 * 48 \n",
            "4 5 8 5 8 4 3 3 2 6 * 48 \n",
            "3 7 5 1 8 3 9 4 3 6 * 49 \n",
            "2 6 5 5 9 6 6 6 9 9 * 63 \n",
            "4 2 9 1 9 1 2 7 6 5 * 46 \n",
            "4 2 7 9 3 3 3 1 4 2 * 38 \n"
          ]
        }
      ]
    },
    {
      "cell_type": "code",
      "source": [
        "\n",
        "for n in range(10):\n",
        "    sum = 0\n",
        "    for i in range(10):\n",
        "        y = random.randint(0,9)\n",
        "        sum=sum+y\n",
        "        print(\"y\", end=\" \")\n",
        "    print(\"*\",sum,end = \" \\n\")"
      ],
      "metadata": {
        "colab": {
          "base_uri": "https://localhost:8080/"
        },
        "id": "jv37a6xl98pw",
        "outputId": "b4ec7ed0-0122-4b40-a6b5-d77cb25fb471"
      },
      "execution_count": 10,
      "outputs": [
        {
          "output_type": "stream",
          "name": "stdout",
          "text": [
            "y y y y y y y y y y * 42 \n",
            "y y y y y y y y y y * 33 \n",
            "y y y y y y y y y y * 44 \n",
            "y y y y y y y y y y * 45 \n",
            "y y y y y y y y y y * 38 \n",
            "y y y y y y y y y y * 38 \n",
            "y y y y y y y y y y * 40 \n",
            "y y y y y y y y y y * 25 \n",
            "y y y y y y y y y y * 42 \n",
            "y y y y y y y y y y * 30 \n"
          ]
        }
      ]
    }
  ]
}