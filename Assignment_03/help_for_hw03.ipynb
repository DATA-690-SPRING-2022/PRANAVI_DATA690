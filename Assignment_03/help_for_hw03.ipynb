{
  "nbformat": 4,
  "nbformat_minor": 0,
  "metadata": {
    "colab": {
      "name": "help_for_hw03.ipynb",
      "provenance": [],
      "authorship_tag": "ABX9TyMHUVS+SFq7KUY/5llgZZSo",
      "include_colab_link": true
    },
    "kernelspec": {
      "name": "python3",
      "display_name": "Python 3"
    },
    "language_info": {
      "name": "python"
    }
  },
  "cells": [
    {
      "cell_type": "markdown",
      "metadata": {
        "id": "view-in-github",
        "colab_type": "text"
      },
      "source": [
        "<a href=\"https://colab.research.google.com/github/Pranavigadikoppula/PRANAVI_DATA690/blob/main/Assignment_03/help_for_hw03.ipynb\" target=\"_parent\"><img src=\"https://colab.research.google.com/assets/colab-badge.svg\" alt=\"Open In Colab\"/></a>"
      ]
    },
    {
      "cell_type": "code",
      "execution_count": null,
      "metadata": {
        "colab": {
          "base_uri": "https://localhost:8080/"
        },
        "id": "WWvGRcUZw7cQ",
        "outputId": "8cba382c-d467-44c5-b230-f271e3802691"
      },
      "outputs": [
        {
          "output_type": "stream",
          "name": "stdout",
          "text": [
            "[2, 3, 4, 'pranavi']\n"
          ]
        }
      ],
      "source": [
        "x = [2,3,4,\"pranavi\"]\n",
        "print(x)"
      ]
    },
    {
      "cell_type": "code",
      "source": [
        "for a in x:\n",
        "  print(a)\n"
      ],
      "metadata": {
        "colab": {
          "base_uri": "https://localhost:8080/"
        },
        "id": "kEfJwfsaxWB4",
        "outputId": "bd76e0a6-5955-41fc-c040-b88647ab5e56"
      },
      "execution_count": null,
      "outputs": [
        {
          "output_type": "stream",
          "name": "stdout",
          "text": [
            "2\n",
            "3\n",
            "4\n",
            "pranavi\n"
          ]
        }
      ]
    },
    {
      "cell_type": "code",
      "source": [
        "\"3\" in x"
      ],
      "metadata": {
        "colab": {
          "base_uri": "https://localhost:8080/"
        },
        "id": "vSEV2wKLx0vQ",
        "outputId": "86069e4b-7f9f-48a3-9fb4-be2bca4b4f0a"
      },
      "execution_count": null,
      "outputs": [
        {
          "output_type": "execute_result",
          "data": {
            "text/plain": [
              "False"
            ]
          },
          "metadata": {},
          "execution_count": 3
        }
      ]
    },
    {
      "cell_type": "code",
      "source": [
        "if 3 in x:\n",
        "  print(\"3 is a number in x\")\n",
        "else:\n",
        "  print(\"3 is not a number in x\")"
      ],
      "metadata": {
        "colab": {
          "base_uri": "https://localhost:8080/"
        },
        "id": "eSRbXe2Ax_zi",
        "outputId": "4914b3e7-6547-44c0-b051-137c314742fc"
      },
      "execution_count": null,
      "outputs": [
        {
          "output_type": "stream",
          "name": "stdout",
          "text": [
            "3 is a number in x\n"
          ]
        }
      ]
    },
    {
      "cell_type": "code",
      "source": [
        "y=[1,2,3,4,5,6,7,8,9]\n",
        "print(y)"
      ],
      "metadata": {
        "colab": {
          "base_uri": "https://localhost:8080/"
        },
        "id": "kBmdRNNkzDcQ",
        "outputId": "4a59e736-e4d7-4bf5-8535-684d04c46340"
      },
      "execution_count": null,
      "outputs": [
        {
          "output_type": "stream",
          "name": "stdout",
          "text": [
            "[1, 2, 3, 4, 5, 6, 7, 8, 9]\n"
          ]
        }
      ]
    },
    {
      "cell_type": "code",
      "source": [
        "for b in y:\n",
        " #  print(b, end=\" \")\n",
        "  print(b, end=\"*\")"
      ],
      "metadata": {
        "colab": {
          "base_uri": "https://localhost:8080/"
        },
        "id": "SUO4zDUCzRE0",
        "outputId": "e4bcd84b-e809-4fa2-9003-0c510dbacf0f"
      },
      "execution_count": null,
      "outputs": [
        {
          "output_type": "stream",
          "name": "stdout",
          "text": [
            "1*2*3*4*5*6*7*8*9*"
          ]
        }
      ]
    },
    {
      "cell_type": "code",
      "source": [
        "import random\n",
        "random.randint(1,9)"
      ],
      "metadata": {
        "colab": {
          "base_uri": "https://localhost:8080/"
        },
        "id": "fLkECzU6zzAh",
        "outputId": "e672747a-b8d7-44bb-a339-846e39fcdc5e"
      },
      "execution_count": null,
      "outputs": [
        {
          "output_type": "execute_result",
          "data": {
            "text/plain": [
              "9"
            ]
          },
          "metadata": {},
          "execution_count": 11
        }
      ]
    },
    {
      "cell_type": "code",
      "source": [
        "for x in range(10):\n",
        "    for y in range(10):\n",
        "        print(random.randint(0,9),end=\" \")\n",
        "    print(\"\\n\")    \n",
        "    "
      ],
      "metadata": {
        "colab": {
          "base_uri": "https://localhost:8080/"
        },
        "id": "sw1_DWol0enV",
        "outputId": "d4772f44-49f7-487c-dba4-b7cb1b6f5325"
      },
      "execution_count": null,
      "outputs": [
        {
          "output_type": "stream",
          "name": "stdout",
          "text": [
            "1 9 4 1 2 8 8 4 6 1 \n",
            "\n",
            "7 5 5 2 8 7 1 0 0 9 \n",
            "\n",
            "4 8 8 1 7 9 6 5 5 6 \n",
            "\n",
            "5 5 2 5 7 3 2 9 0 0 \n",
            "\n",
            "2 3 6 6 2 9 3 1 7 8 \n",
            "\n",
            "3 5 2 2 1 1 8 7 3 5 \n",
            "\n",
            "5 7 2 1 6 3 5 2 1 3 \n",
            "\n",
            "7 2 1 0 0 3 6 0 5 3 \n",
            "\n",
            "1 8 0 9 6 6 7 9 5 7 \n",
            "\n",
            "3 0 3 3 7 9 3 2 2 7 \n",
            "\n"
          ]
        }
      ]
    }
  ]
}