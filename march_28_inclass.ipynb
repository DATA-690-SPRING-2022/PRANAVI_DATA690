{
  "nbformat": 4,
  "nbformat_minor": 0,
  "metadata": {
    "colab": {
      "name": "march_28_inclass.ipynb",
      "provenance": [],
      "authorship_tag": "ABX9TyOidYgRGdjn1qwkIS0idz8C",
      "include_colab_link": true
    },
    "kernelspec": {
      "name": "python3",
      "display_name": "Python 3"
    },
    "language_info": {
      "name": "python"
    }
  },
  "cells": [
    {
      "cell_type": "markdown",
      "metadata": {
        "id": "view-in-github",
        "colab_type": "text"
      },
      "source": [
        "<a href=\"https://colab.research.google.com/github/Pranavigadikoppula/PRANAVI_DATA690/blob/main/march_28_inclass.ipynb\" target=\"_parent\"><img src=\"https://colab.research.google.com/assets/colab-badge.svg\" alt=\"Open In Colab\"/></a>"
      ]
    },
    {
      "cell_type": "markdown",
      "source": [
        "DATA 606\n",
        "4 teams:A,B,C,D randomly select a team to present in class"
      ],
      "metadata": {
        "id": "klyIYceQ0ymy"
      }
    },
    {
      "cell_type": "code",
      "execution_count": 1,
      "metadata": {
        "id": "8uomWpqf0sVt"
      },
      "outputs": [],
      "source": [
        "import random"
      ]
    },
    {
      "cell_type": "code",
      "source": [
        "# assign 0 to A,1 to B,2 to C,3 to D\n",
        "team_list=[\"A\",\"B\",\"C\",\"D\"]\n",
        "\n",
        "print(\"TEAM\",team_list[random.randint(0,3)] ,\"is randomly selected to present\")"
      ],
      "metadata": {
        "colab": {
          "base_uri": "https://localhost:8080/"
        },
        "id": "jxlhV0bN1Erg",
        "outputId": "314355c1-cf5d-4000-d188-675f4677956f"
      },
      "execution_count": 13,
      "outputs": [
        {
          "output_type": "stream",
          "name": "stdout",
          "text": [
            "TEAM A is randomly selected to present\n"
          ]
        }
      ]
    },
    {
      "cell_type": "code",
      "source": [
        "team_dict={\n",
        "    \"A\":0,\n",
        "    \"B\":0,\n",
        "    \"C\":0,\n",
        "    \"D\":0}\n",
        "for i in range(10):\n",
        " team_dict[random.choice(list(team_dict.keys()))] += 1 \n",
        "print(team_dict)"
      ],
      "metadata": {
        "colab": {
          "base_uri": "https://localhost:8080/"
        },
        "id": "bbOwRbeo2MZw",
        "outputId": "c9d32ea1-eb90-4c69-b6a5-d25f21970229"
      },
      "execution_count": 29,
      "outputs": [
        {
          "output_type": "stream",
          "name": "stdout",
          "text": [
            "{'A': 2, 'B': 1, 'C': 3, 'D': 4}\n"
          ]
        }
      ]
    }
  ]
}