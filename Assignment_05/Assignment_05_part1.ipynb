{
  "nbformat": 4,
  "nbformat_minor": 0,
  "metadata": {
    "colab": {
      "name": "Assignment_05_part1.ipynb",
      "provenance": [],
      "collapsed_sections": [],
      "authorship_tag": "ABX9TyPQrxirrmqDBLvTa34Isrg7",
      "include_colab_link": true
    },
    "kernelspec": {
      "name": "python3",
      "display_name": "Python 3"
    },
    "language_info": {
      "name": "python"
    }
  },
  "cells": [
    {
      "cell_type": "markdown",
      "metadata": {
        "id": "view-in-github",
        "colab_type": "text"
      },
      "source": [
        "<a href=\"https://colab.research.google.com/github/Pranavigadikoppula/PRANAVI_DATA690/blob/main/Assignment_05/Assignment_05_part1.ipynb\" target=\"_parent\"><img src=\"https://colab.research.google.com/assets/colab-badge.svg\" alt=\"Open In Colab\"/></a>"
      ]
    },
    {
      "cell_type": "markdown",
      "source": [
        "# Assignment_05_part1\n",
        ". Name- pranavi\n",
        "\n",
        ".Date:03/05/2022\n"
      ],
      "metadata": {
        "id": "j3nY86FcETcZ"
      }
    },
    {
      "cell_type": "markdown",
      "source": [
        "# What is data analysis?\n",
        "\"A process of inspecting, cleansing, transforming and modeling data with the goal of discovering useful information, informing conclusion, and supporting decision-making\"\n",
        "(source-wikipedia).\n",
        "\n",
        "# Data Analysis Tools:\n",
        "\n",
        "Auto-Managed Closed Tools: Qlik, Tableau, Looker, Zoho Analytics\n",
        "\n",
        "Programming Languages: Python, R, Julia\n",
        "\n",
        "# Differences between programming languages and tools\n",
        "\n",
        "Advantage: Easy to learn\n",
        "\n",
        "Disadvantages: Closed source, expensive, limited\n",
        "\n",
        "\n",
        "Advantages: Open source, free (or very cheap), extremely powerful\n",
        "\n",
        "Disadvantages: Steep learning curve\n",
        "\n",
        "# Why Python ?\n",
        "\n",
        "Simple and intuitive to learn\n",
        "\n",
        "\"Correct\" language\n",
        "\n",
        "Powerful libraries with uses outside of data analysis\n",
        "\n",
        "Free and open source\n",
        "\n",
        "Large community with widespread documentation and conferencing"
      ],
      "metadata": {
        "id": "mEhmghDCCVVR"
      }
    },
    {
      "cell_type": "markdown",
      "source": [
        "\n",
        "\n",
        "# What does a data science need to do\n",
        "\n",
        "\n",
        ">Data Extraction\n",
        "\n",
        ">Data Cleaning\n",
        "\n",
        ">Data Wrangling\n",
        "\n",
        ">Analysis\n",
        "\n",
        ">Action\n",
        "\n"
      ],
      "metadata": {
        "id": "AIqP3URYCfbQ"
      }
    },
    {
      "cell_type": "markdown",
      "source": [
        "# Data Analysis vs Data Science\n",
        "Data scientists are more programming/math based, can apply to machine learning and ETL processes\n",
        "\n",
        "Data analysts are more communication based, write more detailed reports that use data to tell stories\n",
        "\n",
        "# Libraries used in python\n",
        "pandas,matpotlib,numpy,seaborn,statsmodels,scipy\n",
        "\n",
        "pandas: data analysis foundation library\n",
        "\n",
        "matplotlib: visualization foundation library\n",
        "\n",
        "numpy: numeric library/foundation for calculation\n",
        "\n",
        "seaborn: visualization tool built on top of matplotlib\n",
        "\n",
        "statsmodels: library with many advanced statistical functions\n",
        "\n",
        "scipy: advanced scientific computing, with functions for optimization, linear algebra, image processing, etc\n",
        "\n",
        "scikit-learn: most popular machine learning library for Python (not deep learning)\n",
        "# What is the use of this data analysis and why we use other tools and programming language\n",
        "\n",
        "Excel, Tableau, it's very hard to deal with huge data\n",
        "\n",
        "Python is able to process vast amounts of data and transfer data much more easily through methods such as the cloud\n"
      ],
      "metadata": {
        "id": "R47RCHqoGPBt"
      }
    }
  ]
}