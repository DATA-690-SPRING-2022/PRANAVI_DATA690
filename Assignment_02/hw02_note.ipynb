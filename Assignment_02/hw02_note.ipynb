{
  "nbformat": 4,
  "nbformat_minor": 0,
  "metadata": {
    "colab": {
      "name": "hw02_note.ipynb",
      "provenance": [],
      "authorship_tag": "ABX9TyNjd0LcNzrKzGNyXIVR6oKF",
      "include_colab_link": true
    },
    "kernelspec": {
      "name": "python3",
      "display_name": "Python 3"
    },
    "language_info": {
      "name": "python"
    }
  },
  "cells": [
    {
      "cell_type": "markdown",
      "metadata": {
        "id": "view-in-github",
        "colab_type": "text"
      },
      "source": [
        "<a href=\"https://colab.research.google.com/github/Pranavigadikoppula/PRANAVI_DATA690/blob/main/Assignment_02/hw02_note.ipynb\" target=\"_parent\"><img src=\"https://colab.research.google.com/assets/colab-badge.svg\" alt=\"Open In Colab\"/></a>"
      ]
    },
    {
      "cell_type": "code",
      "execution_count": 2,
      "metadata": {
        "id": "LKAdO-uA4500"
      },
      "outputs": [],
      "source": [
        "def min(numbers):\n",
        "  small_num = lst[0]\n",
        "  for x in numbers:\n",
        "    if x < small_num:\n",
        "      small_num = x\n",
        "  return small_num"
      ]
    }
  ]
}