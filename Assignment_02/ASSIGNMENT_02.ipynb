{
  "nbformat": 4,
  "nbformat_minor": 0,
  "metadata": {
    "colab": {
      "name": "ASSIGNMENT_02.ipynb",
      "provenance": [],
      "collapsed_sections": [],
      "authorship_tag": "ABX9TyM7K6Br3Z4Y1Y+emIfh4jXl",
      "include_colab_link": true
    },
    "kernelspec": {
      "name": "python3",
      "display_name": "Python 3"
    },
    "language_info": {
      "name": "python"
    }
  },
  "cells": [
    {
      "cell_type": "markdown",
      "metadata": {
        "id": "view-in-github",
        "colab_type": "text"
      },
      "source": [
        "<a href=\"https://colab.research.google.com/github/Pranavigadikoppula/PRANAVI_DATA690/blob/main/Assignment_02/ASSIGNMENT_02.ipynb\" target=\"_parent\"><img src=\"https://colab.research.google.com/assets/colab-badge.svg\" alt=\"Open In Colab\"/></a>"
      ]
    },
    {
      "cell_type": "code",
      "execution_count": 1,
      "metadata": {
        "colab": {
          "base_uri": "https://localhost:8080/"
        },
        "id": "fJq7k3QD_ssH",
        "outputId": "e07500f9-704d-4621-8f84-8699933ff17e"
      },
      "outputs": [
        {
          "output_type": "stream",
          "name": "stdout",
          "text": [
            "enter a number:3\n",
            "<class 'int'>\n",
            "enter a number:5\n",
            "<class 'int'>\n",
            "enter a number:8\n",
            "<class 'int'>\n",
            "enter a number:6\n",
            "<class 'int'>\n",
            "enter a number:0\n",
            "<class 'int'>\n",
            "enter a number:1\n",
            "<class 'int'>\n",
            "enter a number:2\n",
            "<class 'int'>\n",
            "enter a number:j\n",
            "please Enter integer number only:\n",
            "enter a number:k\n",
            "please Enter integer number only:\n",
            "enter a number:6\n",
            "<class 'int'>\n",
            "enter a number:5\n",
            "<class 'int'>\n",
            "enter a number:2\n",
            "<class 'int'>\n",
            "[3, 5, 8, 6, 0, 1, 2, 6, 5, 2]\n",
            "min: 0\n",
            "max: 8\n",
            "range: 8\n",
            "Mean: 2\n",
            "variance: 9.2\n",
            "standard Deviation: 3.03315017762062\n"
          ]
        }
      ],
      "source": [
        "lst = []\n",
        "i=1\n",
        "while i<11:\n",
        "  try:\n",
        "    n=int(input(\"enter a number:\"))\n",
        "  except:\n",
        "    print(\"please Enter integer number only:\")\n",
        "    continue\n",
        "  print(type(n))\n",
        "  lst.append(n)\n",
        "  i+=1\n",
        " \n",
        "print(lst)\n",
        "\n",
        "def minimum(lst):\n",
        "  small_num = lst[0]\n",
        "  for x in lst[1:]:\n",
        "    if x < small_num:\n",
        "      small_num = x\n",
        "  return small_num\n",
        "print(\"min:\",minimum(lst))\n",
        "def maximum(lst):\n",
        "    large_num = lst[0]\n",
        "    for y in lst[1:]:\n",
        "      if y > large_num :\n",
        "        large_num = y\n",
        "    return large_num  \n",
        "print(\"max:\",maximum(lst))\n",
        "def Range1(lst):\n",
        "  Range1=maximum(lst)-minimum(lst)\n",
        "  return Range1\n",
        "print(\"range:\",Range1(lst))\n",
        "def Mean(lst):\n",
        "  Total1=0\n",
        "  for j in lst:\n",
        "   total=Total1+j\n",
        "  Avg=total/len(lst)\n",
        "  return total\n",
        "print(\"Mean:\",Mean(lst))\n",
        "def variance(lst):\n",
        "  deviation = [(x-Mean(lst)) ** 2 for x in lst]\n",
        "  variance=sum(deviation)/len(lst)\n",
        "  return variance\n",
        "print(\"variance:\",variance(lst)) \n",
        "def Standard_deviation(lst):\n",
        "  sd=variance(lst)** 0.5\n",
        "  return sd\n",
        "print(\"standard Deviation:\",Standard_deviation(lst))\n",
        "\n",
        "  \n",
        "\n"
      ]
    },
    {
      "cell_type": "markdown",
      "source": [
        ""
      ],
      "metadata": {
        "id": "KGjkmUfaB90m"
      }
    },
    {
      "cell_type": "markdown",
      "source": [
        "# min = smallest number in the given number series\n",
        "# max =largest number in the given number series\n",
        "# range = maximum-minimum\n",
        "# mean=sum of all observations/no of observations\n",
        "X̄ = (x1 + x2 + x3 +….+xn)/n\n",
        "X̄ =  mean <br>\n",
        "n = number of values in the population<br>\n",
        "# variance=\n",
        "Variance = (Standard deviation)2= σ2\n",
        "# standard deviation = \n",
        "Population standard deviation σ = \n",
        "√\n",
        "∑\n",
        "(\n",
        "X\n",
        "−\n",
        "μ\n",
        ")\n",
        "2\n",
        "/\n",
        "N\n",
        " \n",
        "\n",
        "Where X (or x) = Value of Observations\n",
        "\n",
        "μ = Population mean of all Values\n",
        "\n",
        "n = Number of observations in the sample set\n",
        "\n",
        "¯\n",
        "x\n",
        " = Sample mean\n",
        "\n",
        "N = Total number of values in the population"
      ],
      "metadata": {
        "id": "IRtHz9QfCMfj"
      }
    }
  ]
}